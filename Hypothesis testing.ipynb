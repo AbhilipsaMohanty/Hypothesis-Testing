{
 "cells": [
  {
   "cell_type": "code",
   "execution_count": 1,
   "metadata": {
    "id": "tDDcTGu8UxSA"
   },
   "outputs": [],
   "source": [
    "import numpy as np\n",
    "import scipy.stats as stats"
   ]
  },
  {
   "cell_type": "markdown",
   "metadata": {
    "id": "EiHLOIeJ-kLu"
   },
   "source": [
    "## Objective"
   ]
  },
  {
   "cell_type": "markdown",
   "metadata": {
    "id": "w0enk6wy-ovD"
   },
   "source": [
    "To investigate the restaurant owners' claim about the increase in weekly operating costs using hypothesis testing."
   ]
  },
  {
   "cell_type": "code",
   "execution_count": 2,
   "metadata": {
    "id": "6COJBlktWRdd"
   },
   "outputs": [],
   "source": [
    "#Data given\n",
    "sample_mean=3050\n",
    "population_mean=3000\n",
    "s=125\n",
    "n=25"
   ]
  },
  {
   "cell_type": "markdown",
   "metadata": {
    "id": "rovkw8YW_w1B"
   },
   "source": [
    "## Hypothesis statement:"
   ]
  },
  {
   "cell_type": "markdown",
   "metadata": {
    "id": "eG6C0IyWWRgN"
   },
   "source": [
    "1. Null hypothesis(h0)=the cost model of Bombay hospitality Ltd. which producing Norwegian dinners is  accurate:: W=$1,000+$5\n",
    "2. Alternative hypothesis(ha)=the cost model of Bombay hospitality Ltd. which producing Norwegian dinners is greater than the model suggests:: W > $1,000 + $5X"
   ]
  },
  {
   "cell_type": "markdown",
   "metadata": {
    "id": "4p0Xv0OvBt1Q"
   },
   "source": [
    "Test Statistics"
   ]
  },
  {
   "cell_type": "code",
   "execution_count": 3,
   "metadata": {
    "colab": {
     "base_uri": "https://localhost:8080/"
    },
    "id": "GR-ktyzXWRi9",
    "outputId": "01e908a1-c6a9-4d85-cfb7-377076aa09ae"
   },
   "outputs": [
    {
     "data": {
      "text/plain": [
       "2.0"
      ]
     },
     "execution_count": 3,
     "metadata": {},
     "output_type": "execute_result"
    }
   ],
   "source": [
    "t_stats=(sample_mean-population_mean)/(s/np.sqrt(n))\n",
    "t_stats"
   ]
  },
  {
   "cell_type": "markdown",
   "metadata": {
    "id": "dFRN0ymZCF85"
   },
   "source": [
    "## Critical Value"
   ]
  },
  {
   "cell_type": "code",
   "execution_count": 4,
   "metadata": {
    "colab": {
     "base_uri": "https://localhost:8080/"
    },
    "id": "jVq0pXfOWRmI",
    "outputId": "492d2091-5b05-4e09-f4aa-1ad134f7d883"
   },
   "outputs": [
    {
     "data": {
      "text/plain": [
       "1.7108820799094275"
      ]
     },
     "execution_count": 4,
     "metadata": {},
     "output_type": "execute_result"
    }
   ],
   "source": [
    "critical_value=stats.t.ppf(0.95,24)\n",
    "critical_value"
   ]
  },
  {
   "cell_type": "markdown",
   "metadata": {
    "id": "G3RhVriPZqCp"
   },
   "source": [
    "## Decision Making"
   ]
  },
  {
   "cell_type": "markdown",
   "metadata": {
    "id": "Xt6rMLQDWRo-"
   },
   "source": [
    "After comparing test statistics with critical values we get that test statistics is greater than critcal value therefor,we reject the null hypothesis."
   ]
  },
  {
   "cell_type": "markdown",
   "metadata": {
    "id": "Rtd5pcjdFHVM"
   },
   "source": [
    "## Conclusion"
   ]
  },
  {
   "cell_type": "markdown",
   "metadata": {
    "id": "jO0TWXjoWRr7"
   },
   "source": [
    "Based on the decision in step 4, we conclude that there is strong evidence to support the restaurant owners' claim that the weekly operating costs are higher than the model suggests."
   ]
  },
  {
   "cell_type": "markdown",
   "metadata": {
    "id": "E3daWQEkyAby"
   },
   "source": [
    "# Chisquare Test"
   ]
  },
  {
   "cell_type": "code",
   "execution_count": 5,
   "metadata": {
    "id": "odvWp5V5yyiu"
   },
   "outputs": [],
   "source": [
    "import pandas as pd\n",
    "import numpy as np\n",
    "from scipy.stats import chi2_contingency, chi2"
   ]
  },
  {
   "cell_type": "markdown",
   "metadata": {
    "id": "HheKJnZxyfSa"
   },
   "source": [
    "## Background"
   ]
  },
  {
   "cell_type": "markdown",
   "metadata": {
    "id": "zxocIGMux_VE"
   },
   "source": [
    "Mizzare Corporation has collected data on customer satisfaction levels for two types of smart home devices: Smart Thermostats and Smart Lights. They want to determine if there's a significant association between the type of device purchased and the customer's satisfaction level."
   ]
  },
  {
   "cell_type": "markdown",
   "metadata": {
    "id": "MwtbWQuyziLv"
   },
   "source": [
    "## Data provided:\n",
    "The data is summarized in a contingency table showing the counts of customers in each satisfaction level for both types of devices:"
   ]
  },
  {
   "cell_type": "code",
   "execution_count": 7,
   "metadata": {
    "id": "Jmg3Zs7ux_SN"
   },
   "outputs": [],
   "source": [
    "data=np.array([[50, 80, 60, 30, 20],[70, 100, 90, 50, 50]])"
   ]
  },
  {
   "cell_type": "code",
   "execution_count": 8,
   "metadata": {
    "colab": {
     "base_uri": "https://localhost:8080/"
    },
    "id": "FWcoflCnz5wo",
    "outputId": "41249db9-ee49-4210-d1d4-418a6fcdce14"
   },
   "outputs": [
    {
     "data": {
      "text/plain": [
       "array([[ 50,  80,  60,  30,  20],\n",
       "       [ 70, 100,  90,  50,  50]])"
      ]
     },
     "execution_count": 8,
     "metadata": {},
     "output_type": "execute_result"
    }
   ],
   "source": [
    "data"
   ]
  },
  {
   "cell_type": "markdown",
   "metadata": {
    "id": "ZN3sO0jg0Wsz"
   },
   "source": [
    "## Hypothesis Statement"
   ]
  },
  {
   "cell_type": "markdown",
   "metadata": {
    "id": "YkSoBE79z5z4"
   },
   "source": [
    "1. Null hypothesis(H0)= There's no significant association between the type of smart home device and the customer satisfaction level.\n",
    "2. Alternative hypothesis(H1)= There's a significant association between the type of smart home device and the customer satisfaction level."
   ]
  },
  {
   "cell_type": "markdown",
   "metadata": {
    "id": "i02pX-xy1NkW"
   },
   "source": [
    "## Chi-Square Statistic:"
   ]
  },
  {
   "cell_type": "code",
   "execution_count": 9,
   "metadata": {
    "colab": {
     "base_uri": "https://localhost:8080/"
    },
    "id": "PTk9sU6Tz52l",
    "outputId": "1a5dfaf8-4643-4499-defb-67e6734632c6"
   },
   "outputs": [
    {
     "data": {
      "text/plain": [
       "Chi2ContingencyResult(statistic=5.638227513227513, pvalue=0.22784371130697179, dof=4, expected_freq=array([[ 48.,  72.,  60.,  32.,  28.],\n",
       "       [ 72., 108.,  90.,  48.,  42.]]))"
      ]
     },
     "execution_count": 9,
     "metadata": {},
     "output_type": "execute_result"
    }
   ],
   "source": [
    "chi2_stat=chi2_contingency(data)\n",
    "chi2_stat"
   ]
  },
  {
   "cell_type": "code",
   "execution_count": 12,
   "metadata": {},
   "outputs": [],
   "source": [
    "statistic= 5.63822"
   ]
  },
  {
   "cell_type": "code",
   "execution_count": 10,
   "metadata": {
    "id": "E8mmp1yl7GC9"
   },
   "outputs": [],
   "source": [
    "alpha=0.05\n",
    "dof=4"
   ]
  },
  {
   "cell_type": "markdown",
   "metadata": {
    "id": "Ws6JlcrF6QEc"
   },
   "source": [
    "## Determine Critical Value"
   ]
  },
  {
   "cell_type": "code",
   "execution_count": 11,
   "metadata": {
    "colab": {
     "base_uri": "https://localhost:8080/"
    },
    "id": "6ZdDele3z55g",
    "outputId": "9ad3c566-0bed-41c7-9b43-0cf6b2ea32af"
   },
   "outputs": [
    {
     "data": {
      "text/plain": [
       "9.487729036781154"
      ]
     },
     "execution_count": 11,
     "metadata": {},
     "output_type": "execute_result"
    }
   ],
   "source": [
    "critical_value = chi2.ppf(1 - alpha, dof)\n",
    "critical_value"
   ]
  },
  {
   "cell_type": "markdown",
   "metadata": {
    "id": "cyzv-4gK8XrG"
   },
   "source": [
    "## Make a Decision:"
   ]
  },
  {
   "cell_type": "code",
   "execution_count": 13,
   "metadata": {
    "colab": {
     "base_uri": "https://localhost:8080/",
     "height": 317
    },
    "id": "Z0xJVEZxz58d",
    "outputId": "569cee47-9f97-45c8-f053-ea2401802ead"
   },
   "outputs": [
    {
     "name": "stdout",
     "output_type": "stream",
     "text": [
      "statistic\n",
      "Critical Value: 9.487729036781154\n",
      "Accept the H0 i.e; There's no significant association between the type of smart home device and the customer satisfaction level. .\n"
     ]
    }
   ],
   "source": [
    "print(f\"statistic\")\n",
    "print(f\"Critical Value: {critical_value}\")\n",
    "if statistic < critical_value:\n",
    "    print(\"Accept the H0 i.e; There's no significant association between the type of smart home device and the customer satisfaction level. .\")\n",
    "else:\n",
    "    print(\"Reject the H1 i.e; There's a significant association between the type of smart home device and the customer satisfaction level. .\")"
   ]
  }
 ],
 "metadata": {
  "colab": {
   "provenance": []
  },
  "kernelspec": {
   "display_name": "Python 3 (ipykernel)",
   "language": "python",
   "name": "python3"
  },
  "language_info": {
   "codemirror_mode": {
    "name": "ipython",
    "version": 3
   },
   "file_extension": ".py",
   "mimetype": "text/x-python",
   "name": "python",
   "nbconvert_exporter": "python",
   "pygments_lexer": "ipython3",
   "version": "3.12.4"
  }
 },
 "nbformat": 4,
 "nbformat_minor": 4
}
